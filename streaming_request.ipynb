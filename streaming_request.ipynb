{
 "cells": [
  {
   "cell_type": "code",
   "execution_count": null,
   "metadata": {},
   "outputs": [
    {
     "name": "stdout",
     "output_type": "stream",
     "text": [
      "Streaming response from Ollama:\n",
      "<think>\n",
      "Okay, so I need to figure out whether water boils at 100 degrees Celsius under normal pressure. Hmm, where do I start? I remember that boiling point is the temperature at which a liquid starts to vaporize, right? And for many substances, they boil at their own specific points when you add a certain amount of heat or pressure.\n",
      "\n",
      "Water is different because it boils at 100 degrees Celsius regardless of other conditions. But wait, isn't there something about pressure involved too? I think atmospheric pressure is around 1 atmosphere, which is what we feel normally. So under normal circumstances, like on Earth without any altitude changes, the boiling point should be at that standard pressure.\n",
      "\n",
      "But let me break it down. Boiling occurs when molecules have enough energy to overcome intermolecular forces—like hydrogen bonds in water—and escape into the vapor phase. At 100 degrees Celsius, these molecules can start turning into steam, which is why water boils. \n",
      "\n",
      "Now, does normal pressure mean exactly 1 atmosphere? Or could it be a bit higher or lower sometimes? I don't think so for most cases because when we're talking about boiling under standard conditions, the pressure is set at atmospheric level. So even if the air around changes slightly, as long as it's close to atmospheric pressure, water should boil around 100 degrees.\n",
      "\n",
      "I also recall that in high altitude places where the atmospheric pressure is lower than usual, like near the top of a mountain, boiling might occur at a higher temperature. But that's not normal pressure—those are different scenarios. So under normal conditions, yes, it's 100°C.\n",
      "\n",
      "Wait, could there be other factors? Like impurities or something affecting the boiling point? I don't think so because for simple substances like water, even pure samples at standard pressure boil without much other stuff interfering. If there were gases in the air, maybe that would affect the vapor pressure differently, but unless it's a really special situation with significant volatile components, I don't think that's relevant here.\n",
      "\n",
      "So putting it all together: under normal atmospheric pressure, water boils at 100 degrees Celsius because that's its standard boiling point. Any other pressures would require more or less heat to boil, which isn't the case under normal circumstances.\n",
      "</think>\n",
      "\n",
      "Under normal atmospheric pressure, water boils at 100 degrees Celsius. This is known as the normal boiling point of water. The reason lies in the fact that at this temperature and pressure, water reaches a state where its molecules have enough energy to overcome intermolecular forces (hydrogen bonds) and escape into the vapor phase. While other factors like impurities or different pressures might influence some cases, they do not significantly affect the standard boiling point of water under normal conditions.\n"
     ]
    }
   ],
   "source": [
    "import requests\n",
    "import json\n",
    "\n",
    "# Base URL for the local Ollama API\n",
    "url = \"http://localhost:11434/api/chat\"\n",
    "\n",
    "# Defining the payload (the input prompt)\n",
    "payload = {\n",
    "    \"model\": \"deepseek-r1:1.5b\",\n",
    "    \"messages\": [{\"role\": \"user\", \"content\": \"Does water boils at 100 degrees Celsius under normal pressure?\"}]\n",
    "}\n",
    "\n",
    "# Sending the HTTP POST request\n",
    "response = requests.post(url, json=payload, stream=True)\n",
    "if response.status_code == 200:\n",
    "    print(\"Streaming response from Ollama:\")\n",
    "    for line in response.iter_lines(decode_unicode=True):\n",
    "        if line:\n",
    "            try:\n",
    "                json_data = json.loads(line)\n",
    "                if \"message\" in json_data and \"content\" in json_data[\"message\"]:\n",
    "                    print(json_data[\"message\"][\"content\"], end=\"\")\n",
    "            except json.JSONDecodeError:\n",
    "                print(f\"\\nFailed to parse line: {line}\")\n",
    "    print()\n",
    "else:\n",
    "    print(f\"Error: {response.status_code}\")\n",
    "    print(response.text)"
   ]
  }
 ],
 "metadata": {
  "kernelspec": {
   "display_name": "PythonAIMLenv",
   "language": "python",
   "name": "python3"
  },
  "language_info": {
   "codemirror_mode": {
    "name": "ipython",
    "version": 3
   },
   "file_extension": ".py",
   "mimetype": "text/x-python",
   "name": "python",
   "nbconvert_exporter": "python",
   "pygments_lexer": "ipython3",
   "version": "3.12.4"
  }
 },
 "nbformat": 4,
 "nbformat_minor": 2
}
